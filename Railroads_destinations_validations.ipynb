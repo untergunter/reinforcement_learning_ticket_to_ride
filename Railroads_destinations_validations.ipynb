{
 "cells": [
  {
   "cell_type": "code",
   "execution_count": 49,
   "metadata": {
    "tags": []
   },
   "outputs": [],
   "source": [
    "import numpy as np\n",
    "import pandas as pd\n",
    "from fuzzywuzzy import fuzz"
   ]
  },
  {
   "cell_type": "code",
   "execution_count": 28,
   "metadata": {
    "collapsed": false,
    "jupyter": {
     "outputs_hidden": false
    },
    "pycharm": {
     "name": "#%%\n"
    }
   },
   "outputs": [],
   "source": [
    "roads = pd.read_csv('Railroads.csv')\n",
    "dests = pd.read_csv('destinations.csv')"
   ]
  },
  {
   "cell_type": "code",
   "execution_count": 29,
   "metadata": {},
   "outputs": [
    {
     "data": {
      "text/html": [
       "<div>\n",
       "<style scoped>\n",
       "    .dataframe tbody tr th:only-of-type {\n",
       "        vertical-align: middle;\n",
       "    }\n",
       "\n",
       "    .dataframe tbody tr th {\n",
       "        vertical-align: top;\n",
       "    }\n",
       "\n",
       "    .dataframe thead th {\n",
       "        text-align: right;\n",
       "    }\n",
       "</style>\n",
       "<table border=\"1\" class=\"dataframe\">\n",
       "  <thead>\n",
       "    <tr style=\"text-align: right;\">\n",
       "      <th></th>\n",
       "      <th>from</th>\n",
       "      <th>to</th>\n",
       "      <th>length</th>\n",
       "      <th>color</th>\n",
       "    </tr>\n",
       "  </thead>\n",
       "  <tbody>\n",
       "    <tr>\n",
       "      <th>0</th>\n",
       "      <td>Vancouver</td>\n",
       "      <td>Calgary</td>\n",
       "      <td>3</td>\n",
       "      <td>gray</td>\n",
       "    </tr>\n",
       "    <tr>\n",
       "      <th>1</th>\n",
       "      <td>Vancouver</td>\n",
       "      <td>Seattle</td>\n",
       "      <td>1</td>\n",
       "      <td>gray</td>\n",
       "    </tr>\n",
       "    <tr>\n",
       "      <th>2</th>\n",
       "      <td>Vancouver</td>\n",
       "      <td>Seattle</td>\n",
       "      <td>1</td>\n",
       "      <td>gray</td>\n",
       "    </tr>\n",
       "    <tr>\n",
       "      <th>3</th>\n",
       "      <td>Seattle</td>\n",
       "      <td>Portland</td>\n",
       "      <td>1</td>\n",
       "      <td>gray</td>\n",
       "    </tr>\n",
       "    <tr>\n",
       "      <th>4</th>\n",
       "      <td>Seattle</td>\n",
       "      <td>Portland</td>\n",
       "      <td>1</td>\n",
       "      <td>gray</td>\n",
       "    </tr>\n",
       "  </tbody>\n",
       "</table>\n",
       "</div>"
      ],
      "text/plain": [
       "         from         to  length color\n",
       "0  Vancouver    Calgary        3  gray\n",
       "1  Vancouver    Seattle        1  gray\n",
       "2  Vancouver    Seattle        1  gray\n",
       "3    Seattle   Portland        1  gray\n",
       "4    Seattle   Portland        1  gray"
      ]
     },
     "execution_count": 29,
     "metadata": {},
     "output_type": "execute_result"
    }
   ],
   "source": [
    "roads.head()"
   ]
  },
  {
   "cell_type": "code",
   "execution_count": 30,
   "metadata": {},
   "outputs": [
    {
     "data": {
      "text/html": [
       "<div>\n",
       "<style scoped>\n",
       "    .dataframe tbody tr th:only-of-type {\n",
       "        vertical-align: middle;\n",
       "    }\n",
       "\n",
       "    .dataframe tbody tr th {\n",
       "        vertical-align: top;\n",
       "    }\n",
       "\n",
       "    .dataframe thead th {\n",
       "        text-align: right;\n",
       "    }\n",
       "</style>\n",
       "<table border=\"1\" class=\"dataframe\">\n",
       "  <thead>\n",
       "    <tr style=\"text-align: right;\">\n",
       "      <th></th>\n",
       "      <th>from</th>\n",
       "      <th>to</th>\n",
       "      <th>points</th>\n",
       "    </tr>\n",
       "  </thead>\n",
       "  <tbody>\n",
       "    <tr>\n",
       "      <th>0</th>\n",
       "      <td>Boston</td>\n",
       "      <td>Miami</td>\n",
       "      <td>12</td>\n",
       "    </tr>\n",
       "    <tr>\n",
       "      <th>1</th>\n",
       "      <td>Calgary</td>\n",
       "      <td>Phoenix</td>\n",
       "      <td>13</td>\n",
       "    </tr>\n",
       "    <tr>\n",
       "      <th>2</th>\n",
       "      <td>Calgary</td>\n",
       "      <td>Salt Lake City</td>\n",
       "      <td>7</td>\n",
       "    </tr>\n",
       "    <tr>\n",
       "      <th>3</th>\n",
       "      <td>Chicago</td>\n",
       "      <td>New Orleans</td>\n",
       "      <td>7</td>\n",
       "    </tr>\n",
       "    <tr>\n",
       "      <th>4</th>\n",
       "      <td>Chicago</td>\n",
       "      <td>Santa Fe</td>\n",
       "      <td>9</td>\n",
       "    </tr>\n",
       "  </tbody>\n",
       "</table>\n",
       "</div>"
      ],
      "text/plain": [
       "       from               to  points\n",
       "0   Boston            Miami       12\n",
       "1  Calgary          Phoenix       13\n",
       "2  Calgary   Salt Lake City        7\n",
       "3  Chicago      New Orleans        7\n",
       "4  Chicago         Santa Fe        9"
      ]
     },
     "execution_count": 30,
     "metadata": {},
     "output_type": "execute_result"
    }
   ],
   "source": [
    "dests.head()"
   ]
  },
  {
   "cell_type": "code",
   "execution_count": 53,
   "metadata": {},
   "outputs": [],
   "source": [
    "# merege df columns from and to\n",
    "def merge_unique_from_to(df):\n",
    "    return np.concatenate((df['from'].values,df['to'].values))\n",
    "\n",
    "# find distinct  in each of them, make sure there are no typos\n",
    "def show_most_simelar_strings(container):\n",
    "    droped_duplicates = tuple(set(container))\n",
    "    results=[]\n",
    "    for index,string_a in enumerate(droped_duplicates):\n",
    "        for string_b in droped_duplicates[index+1:]:\n",
    "            compere = (string_a,string_b,fuzz.ratio(string_a,string_b))\n",
    "            results.append(compere)\n",
    "    return sorted(results,key= lambda x: x[2],reverse=True)"
   ]
  },
  {
   "cell_type": "code",
   "execution_count": 55,
   "metadata": {},
   "outputs": [
    {
     "name": "stdout",
     "output_type": "stream",
     "text": [
      "[('Kansas City ', 'Kansas city', 87), ('Boston', 'Houston', 77), ('Vancouver ', 'Denver ', 59), ('salt lake city', 'Kansas city', 56), ('Kansas City ', 'Oklahima City', 56), ('Atlanta', 'Santa Fe', 53), ('Saint Louis', 'Santa Fe', 53), ('New Orleans ', 'Helena ', 53), ('Little Rock', 'Seattle ', 53), ('Helena ', 'Seattle ', 53)]\n",
      "[('Houston ', 'Boston ', 80), ('Kansas City ', 'Oklahoma City ', 62), ('Salt Lake City ', 'Kansas City ', 59), ('Atlanta ', 'Portland ', 59), ('Atlanta ', 'Santa Fe ', 59), ('Santa Fe ', 'Seattle ', 59), ('Vancouver ', 'Denver ', 59), ('New Orleans ', 'New York ', 57), ('Salt Lake City ', 'Oklahoma City ', 55), ('Atlanta ', 'Helena ', 53)]\n"
     ]
    }
   ],
   "source": [
    "for dataset in(roads,dests):\n",
    "    all_city_names = merge_unique_from_to(dataset)\n",
    "    most_simelar = show_most_simelar_strings(all_city_names)\n",
    "    print(most_simelar[:10])"
   ]
  },
  {
   "cell_type": "code",
   "execution_count": 63,
   "metadata": {},
   "outputs": [],
   "source": [
    "def capitlize_all_words_after_space(df):\n",
    "    cols = set(df.columns)\n",
    "    for column in ('from','to'):\n",
    "        if column in cols:\n",
    "            df[column] = df[column].str.title().str.strip()\n",
    "    return df"
   ]
  },
  {
   "cell_type": "code",
   "execution_count": 64,
   "metadata": {},
   "outputs": [],
   "source": [
    "def text_pipeline(df):\n",
    "    df = df.copy()\n",
    "    capitlize_all_words_after_space(df)\n",
    "    return df"
   ]
  },
  {
   "cell_type": "code",
   "execution_count": 66,
   "metadata": {},
   "outputs": [
    {
     "name": "stdout",
     "output_type": "stream",
     "text": [
      "[('Boston', 'Houston', 77), ('Oklahima City', 'Kansas City', 58), ('Kansas City', 'Salt Lake City', 56), ('Portland', 'Atlanta', 53), ('New York', 'New Orleans', 53), ('Atlanta', 'Santa Fe', 53), ('Saint Louis', 'Santa Fe', 53), ('Denver', 'Vancouver', 53), ('Seattle', 'Santa Fe', 53), ('Oklahima City', 'Salt Lake City', 52)]\n",
      "[('Boston', 'Houston', 77), ('Kansas City', 'Oklahoma City', 58), ('Kansas City', 'Salt Lake City', 56), ('Portland', 'Atlanta', 53), ('New York', 'New Orleans', 53), ('Atlanta', 'Santa Fe', 53), ('Denver', 'Vancouver', 53), ('Seattle', 'Santa Fe', 53), ('Oklahoma City', 'Salt Lake City', 52), ('San Francisco', 'Santa Fe', 48)]\n"
     ]
    }
   ],
   "source": [
    "roads1 = text_pipeline(roads)\n",
    "dests1 = text_pipeline(dests)\n",
    "for dataset in(roads1,dests1):\n",
    "    all_city_names = merge_unique_from_to(dataset)\n",
    "    most_simelar = show_most_simelar_strings(all_city_names)\n",
    "    print(most_simelar[:10])"
   ]
  },
  {
   "cell_type": "code",
   "execution_count": 67,
   "metadata": {},
   "outputs": [],
   "source": [
    "def merge_2df(df1,df2):\n",
    "    return np.concatenate((df1['from'].values,df1['to'].values,df2['from'].values,df2['to'].values))"
   ]
  },
  {
   "cell_type": "code",
   "execution_count": 69,
   "metadata": {},
   "outputs": [
    {
     "name": "stdout",
     "output_type": "stream",
     "text": [
      "[('Oklahima City', 'Oklahoma City', 92), ('Boston', 'Houston', 77), ('Oklahima City', 'Kansas City', 58), ('Kansas City', 'Oklahoma City', 58), ('Kansas City', 'Salt Lake City', 56), ('Portland', 'Atlanta', 53), ('New York', 'New Orleans', 53), ('Atlanta', 'Santa Fe', 53), ('Saint Louis', 'Santa Fe', 53), ('Denver', 'Vancouver', 53)]\n"
     ]
    }
   ],
   "source": [
    "all_city_names = merge_2df(roads1,dests1)\n",
    "most_simelar = show_most_simelar_strings(all_city_names)\n",
    "print(most_simelar[:10])"
   ]
  },
  {
   "cell_type": "code",
   "execution_count": 77,
   "metadata": {},
   "outputs": [],
   "source": [
    "def fix_spelling_errors(df):\n",
    "    cols = set(df.columns)\n",
    "    for column in ('from','to'):\n",
    "        df[column] = df[column].str.replace('Oklahima','Oklahoma',regex=False)\n",
    "    return df\n",
    "\n",
    "def text_pipeline(df):\n",
    "    df = df.copy()\n",
    "    df = capitlize_all_words_after_space(df)\n",
    "    df = fix_spelling_errors(df)\n",
    "    return df"
   ]
  },
  {
   "cell_type": "code",
   "execution_count": 78,
   "metadata": {},
   "outputs": [
    {
     "name": "stdout",
     "output_type": "stream",
     "text": [
      "[('Boston', 'Houston', 77), ('Kansas City', 'Oklahoma City', 58), ('Kansas City', 'Salt Lake City', 56), ('Portland', 'Atlanta', 53), ('New York', 'New Orleans', 53), ('Atlanta', 'Santa Fe', 53), ('Saint Louis', 'Santa Fe', 53), ('Denver', 'Vancouver', 53), ('Seattle', 'Santa Fe', 53), ('Oklahoma City', 'Salt Lake City', 52)]\n"
     ]
    }
   ],
   "source": [
    "roads2 = text_pipeline(roads)\n",
    "dests2 = text_pipeline(dests)\n",
    "all_city_names = merge_2df(roads2,dests2)\n",
    "most_simelar = show_most_simelar_strings(all_city_names)\n",
    "print(most_simelar[:10])"
   ]
  },
  {
   "cell_type": "code",
   "execution_count": 76,
   "metadata": {},
   "outputs": [],
   "source": [
    "text_pipeline(roads)"
   ]
  },
  {
   "cell_type": "code",
   "execution_count": 79,
   "metadata": {},
   "outputs": [
    {
     "data": {
      "text/html": [
       "<div>\n",
       "<style scoped>\n",
       "    .dataframe tbody tr th:only-of-type {\n",
       "        vertical-align: middle;\n",
       "    }\n",
       "\n",
       "    .dataframe tbody tr th {\n",
       "        vertical-align: top;\n",
       "    }\n",
       "\n",
       "    .dataframe thead th {\n",
       "        text-align: right;\n",
       "    }\n",
       "</style>\n",
       "<table border=\"1\" class=\"dataframe\">\n",
       "  <thead>\n",
       "    <tr style=\"text-align: right;\">\n",
       "      <th></th>\n",
       "      <th>from</th>\n",
       "      <th>to</th>\n",
       "      <th>length</th>\n",
       "      <th>color</th>\n",
       "    </tr>\n",
       "  </thead>\n",
       "  <tbody>\n",
       "    <tr>\n",
       "      <th>0</th>\n",
       "      <td>Vancouver</td>\n",
       "      <td>Calgary</td>\n",
       "      <td>3</td>\n",
       "      <td>gray</td>\n",
       "    </tr>\n",
       "    <tr>\n",
       "      <th>1</th>\n",
       "      <td>Vancouver</td>\n",
       "      <td>Seattle</td>\n",
       "      <td>1</td>\n",
       "      <td>gray</td>\n",
       "    </tr>\n",
       "    <tr>\n",
       "      <th>2</th>\n",
       "      <td>Vancouver</td>\n",
       "      <td>Seattle</td>\n",
       "      <td>1</td>\n",
       "      <td>gray</td>\n",
       "    </tr>\n",
       "    <tr>\n",
       "      <th>3</th>\n",
       "      <td>Seattle</td>\n",
       "      <td>Portland</td>\n",
       "      <td>1</td>\n",
       "      <td>gray</td>\n",
       "    </tr>\n",
       "    <tr>\n",
       "      <th>4</th>\n",
       "      <td>Seattle</td>\n",
       "      <td>Portland</td>\n",
       "      <td>1</td>\n",
       "      <td>gray</td>\n",
       "    </tr>\n",
       "  </tbody>\n",
       "</table>\n",
       "</div>"
      ],
      "text/plain": [
       "        from        to  length color\n",
       "0  Vancouver   Calgary       3  gray\n",
       "1  Vancouver   Seattle       1  gray\n",
       "2  Vancouver   Seattle       1  gray\n",
       "3    Seattle  Portland       1  gray\n",
       "4    Seattle  Portland       1  gray"
      ]
     },
     "execution_count": 79,
     "metadata": {},
     "output_type": "execute_result"
    }
   ],
   "source": [
    "roads2.head()"
   ]
  },
  {
   "cell_type": "code",
   "execution_count": 80,
   "metadata": {},
   "outputs": [
    {
     "data": {
      "text/html": [
       "<div>\n",
       "<style scoped>\n",
       "    .dataframe tbody tr th:only-of-type {\n",
       "        vertical-align: middle;\n",
       "    }\n",
       "\n",
       "    .dataframe tbody tr th {\n",
       "        vertical-align: top;\n",
       "    }\n",
       "\n",
       "    .dataframe thead th {\n",
       "        text-align: right;\n",
       "    }\n",
       "</style>\n",
       "<table border=\"1\" class=\"dataframe\">\n",
       "  <thead>\n",
       "    <tr style=\"text-align: right;\">\n",
       "      <th></th>\n",
       "      <th>from</th>\n",
       "      <th>to</th>\n",
       "      <th>points</th>\n",
       "    </tr>\n",
       "  </thead>\n",
       "  <tbody>\n",
       "    <tr>\n",
       "      <th>0</th>\n",
       "      <td>Boston</td>\n",
       "      <td>Miami</td>\n",
       "      <td>12</td>\n",
       "    </tr>\n",
       "    <tr>\n",
       "      <th>1</th>\n",
       "      <td>Calgary</td>\n",
       "      <td>Phoenix</td>\n",
       "      <td>13</td>\n",
       "    </tr>\n",
       "    <tr>\n",
       "      <th>2</th>\n",
       "      <td>Calgary</td>\n",
       "      <td>Salt Lake City</td>\n",
       "      <td>7</td>\n",
       "    </tr>\n",
       "    <tr>\n",
       "      <th>3</th>\n",
       "      <td>Chicago</td>\n",
       "      <td>New Orleans</td>\n",
       "      <td>7</td>\n",
       "    </tr>\n",
       "    <tr>\n",
       "      <th>4</th>\n",
       "      <td>Chicago</td>\n",
       "      <td>Santa Fe</td>\n",
       "      <td>9</td>\n",
       "    </tr>\n",
       "  </tbody>\n",
       "</table>\n",
       "</div>"
      ],
      "text/plain": [
       "      from              to  points\n",
       "0   Boston           Miami      12\n",
       "1  Calgary         Phoenix      13\n",
       "2  Calgary  Salt Lake City       7\n",
       "3  Chicago     New Orleans       7\n",
       "4  Chicago        Santa Fe       9"
      ]
     },
     "execution_count": 80,
     "metadata": {},
     "output_type": "execute_result"
    }
   ],
   "source": [
    "dests2.head()"
   ]
  },
  {
   "cell_type": "code",
   "execution_count": 81,
   "metadata": {},
   "outputs": [],
   "source": [
    "roads2.to_csv('Railroads.csv')\n",
    "dests2.to_csv('destinations.csv')"
   ]
  },
  {
   "cell_type": "code",
   "execution_count": null,
   "metadata": {},
   "outputs": [],
   "source": []
  }
 ],
 "metadata": {
  "kernelspec": {
   "display_name": "Python 3",
   "language": "python",
   "name": "python3"
  },
  "language_info": {
   "codemirror_mode": {
    "name": "ipython",
    "version": 3
   },
   "file_extension": ".py",
   "mimetype": "text/x-python",
   "name": "python",
   "nbconvert_exporter": "python",
   "pygments_lexer": "ipython3",
   "version": "3.9.2"
  }
 },
 "nbformat": 4,
 "nbformat_minor": 4
}
