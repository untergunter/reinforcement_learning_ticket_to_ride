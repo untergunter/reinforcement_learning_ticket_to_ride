{
 "cells": [
  {
   "cell_type": "code",
   "execution_count": 1,
   "metadata": {
    "tags": []
   },
   "outputs": [],
   "source": [
    "import numpy as np\n",
    "import pandas as pd\n",
    "from fuzzywuzzy import fuzz"
   ]
  },
  {
   "cell_type": "code",
   "execution_count": 20,
   "metadata": {
    "collapsed": false,
    "jupyter": {
     "outputs_hidden": false
    },
    "pycharm": {
     "name": "#%%\n"
    }
   },
   "outputs": [],
   "source": [
    "roads = pd.read_csv('Railroads.csv')\n",
    "dests = pd.read_csv('destinations.csv')"
   ]
  },
  {
   "cell_type": "code",
   "execution_count": 21,
   "metadata": {},
   "outputs": [
    {
     "data": {
      "text/html": [
       "<div>\n",
       "<style scoped>\n",
       "    .dataframe tbody tr th:only-of-type {\n",
       "        vertical-align: middle;\n",
       "    }\n",
       "\n",
       "    .dataframe tbody tr th {\n",
       "        vertical-align: top;\n",
       "    }\n",
       "\n",
       "    .dataframe thead th {\n",
       "        text-align: right;\n",
       "    }\n",
       "</style>\n",
       "<table border=\"1\" class=\"dataframe\">\n",
       "  <thead>\n",
       "    <tr style=\"text-align: right;\">\n",
       "      <th></th>\n",
       "      <th>from</th>\n",
       "      <th>to</th>\n",
       "      <th>length</th>\n",
       "      <th>color</th>\n",
       "    </tr>\n",
       "  </thead>\n",
       "  <tbody>\n",
       "    <tr>\n",
       "      <th>0</th>\n",
       "      <td>Vancouver</td>\n",
       "      <td>Calgary</td>\n",
       "      <td>3</td>\n",
       "      <td>gray</td>\n",
       "    </tr>\n",
       "    <tr>\n",
       "      <th>1</th>\n",
       "      <td>Vancouver</td>\n",
       "      <td>Seattle</td>\n",
       "      <td>1</td>\n",
       "      <td>gray</td>\n",
       "    </tr>\n",
       "    <tr>\n",
       "      <th>2</th>\n",
       "      <td>Vancouver</td>\n",
       "      <td>Seattle</td>\n",
       "      <td>1</td>\n",
       "      <td>gray</td>\n",
       "    </tr>\n",
       "    <tr>\n",
       "      <th>3</th>\n",
       "      <td>Seattle</td>\n",
       "      <td>Portland</td>\n",
       "      <td>1</td>\n",
       "      <td>gray</td>\n",
       "    </tr>\n",
       "    <tr>\n",
       "      <th>4</th>\n",
       "      <td>Seattle</td>\n",
       "      <td>Portland</td>\n",
       "      <td>1</td>\n",
       "      <td>gray</td>\n",
       "    </tr>\n",
       "  </tbody>\n",
       "</table>\n",
       "</div>"
      ],
      "text/plain": [
       "        from        to  length color\n",
       "0  Vancouver   Calgary       3  gray\n",
       "1  Vancouver   Seattle       1  gray\n",
       "2  Vancouver   Seattle       1  gray\n",
       "3    Seattle  Portland       1  gray\n",
       "4    Seattle  Portland       1  gray"
      ]
     },
     "execution_count": 21,
     "metadata": {},
     "output_type": "execute_result"
    }
   ],
   "source": [
    "roads.head()"
   ]
  },
  {
   "cell_type": "code",
   "execution_count": 22,
   "metadata": {},
   "outputs": [
    {
     "data": {
      "text/html": [
       "<div>\n",
       "<style scoped>\n",
       "    .dataframe tbody tr th:only-of-type {\n",
       "        vertical-align: middle;\n",
       "    }\n",
       "\n",
       "    .dataframe tbody tr th {\n",
       "        vertical-align: top;\n",
       "    }\n",
       "\n",
       "    .dataframe thead th {\n",
       "        text-align: right;\n",
       "    }\n",
       "</style>\n",
       "<table border=\"1\" class=\"dataframe\">\n",
       "  <thead>\n",
       "    <tr style=\"text-align: right;\">\n",
       "      <th></th>\n",
       "      <th>from</th>\n",
       "      <th>to</th>\n",
       "      <th>points</th>\n",
       "    </tr>\n",
       "  </thead>\n",
       "  <tbody>\n",
       "    <tr>\n",
       "      <th>0</th>\n",
       "      <td>Boston</td>\n",
       "      <td>Miami</td>\n",
       "      <td>12</td>\n",
       "    </tr>\n",
       "    <tr>\n",
       "      <th>1</th>\n",
       "      <td>Calgary</td>\n",
       "      <td>Phoenix</td>\n",
       "      <td>13</td>\n",
       "    </tr>\n",
       "    <tr>\n",
       "      <th>2</th>\n",
       "      <td>Calgary</td>\n",
       "      <td>Salt Lake City</td>\n",
       "      <td>7</td>\n",
       "    </tr>\n",
       "    <tr>\n",
       "      <th>3</th>\n",
       "      <td>Chicago</td>\n",
       "      <td>New Orleans</td>\n",
       "      <td>7</td>\n",
       "    </tr>\n",
       "    <tr>\n",
       "      <th>4</th>\n",
       "      <td>Chicago</td>\n",
       "      <td>Santa Fe</td>\n",
       "      <td>9</td>\n",
       "    </tr>\n",
       "  </tbody>\n",
       "</table>\n",
       "</div>"
      ],
      "text/plain": [
       "      from              to  points\n",
       "0   Boston           Miami      12\n",
       "1  Calgary         Phoenix      13\n",
       "2  Calgary  Salt Lake City       7\n",
       "3  Chicago     New Orleans       7\n",
       "4  Chicago        Santa Fe       9"
      ]
     },
     "execution_count": 22,
     "metadata": {},
     "output_type": "execute_result"
    }
   ],
   "source": [
    "dests.head()"
   ]
  },
  {
   "cell_type": "code",
   "execution_count": 23,
   "metadata": {},
   "outputs": [],
   "source": [
    "# merege df columns from and to\n",
    "def merge_unique_from_to(df):\n",
    "    return np.concatenate((df['from'].values,df['to'].values))\n",
    "\n",
    "# find distinct  in each of them, make sure there are no typos\n",
    "def show_most_simelar_strings(container):\n",
    "    droped_duplicates = tuple(set(container))\n",
    "    results=[]\n",
    "    for index,string_a in enumerate(droped_duplicates):\n",
    "        for string_b in droped_duplicates[index+1:]:\n",
    "            compere = (string_a,string_b,fuzz.ratio(string_a,string_b))\n",
    "            results.append(compere)\n",
    "    return sorted(results,key= lambda x: x[2],reverse=True)"
   ]
  },
  {
   "cell_type": "code",
   "execution_count": 6,
   "metadata": {},
   "outputs": [
    {
     "name": "stdout",
     "output_type": "stream",
     "text": [
      "[('Houston', 'Boston', 77), ('Oklahoma City', 'Kansas City', 58), ('Kansas City', 'Salt Lake City', 56), ('Seattle', 'Santa Fe', 53), ('Portland', 'Atlanta', 53), ('Denver', 'Vancouver', 53), ('New Orleans', 'New York', 53), ('Atlanta', 'Santa Fe', 53), ('Saint Louis', 'Santa Fe', 53), ('Oklahoma City', 'Salt Lake City', 52)]\n",
      "[('Houston', 'Boston', 77), ('Oklahoma City', 'Kansas City', 58), ('Kansas City', 'Salt Lake City', 56), ('Seattle', 'Santa Fe', 53), ('Portland', 'Atlanta', 53), ('Denver', 'Vancouver', 53), ('New Orleans', 'New York', 53), ('Atlanta', 'Santa Fe', 53), ('Oklahoma City', 'Salt Lake City', 52), ('Sault St. Marie', 'Salt Lake City', 48)]\n"
     ]
    }
   ],
   "source": [
    "for dataset in(roads,dests):\n",
    "    all_city_names = merge_unique_from_to(dataset)\n",
    "    most_simelar = show_most_simelar_strings(all_city_names)\n",
    "    print(most_simelar[:10])"
   ]
  },
  {
   "cell_type": "code",
   "execution_count": 7,
   "metadata": {},
   "outputs": [],
   "source": [
    "def capitlize_all_words_after_space(df):\n",
    "    cols = set(df.columns)\n",
    "    for column in ('from','to'):\n",
    "        if column in cols:\n",
    "            df[column] = df[column].str.title().str.strip()\n",
    "    return df"
   ]
  },
  {
   "cell_type": "code",
   "execution_count": 8,
   "metadata": {},
   "outputs": [],
   "source": [
    "def text_pipeline(df):\n",
    "    df = df.copy()\n",
    "    capitlize_all_words_after_space(df)\n",
    "    return df"
   ]
  },
  {
   "cell_type": "code",
   "execution_count": 9,
   "metadata": {},
   "outputs": [
    {
     "name": "stdout",
     "output_type": "stream",
     "text": [
      "[('Houston', 'Boston', 77), ('Oklahoma City', 'Kansas City', 58), ('Kansas City', 'Salt Lake City', 56), ('Seattle', 'Santa Fe', 53), ('Portland', 'Atlanta', 53), ('Denver', 'Vancouver', 53), ('New Orleans', 'New York', 53), ('Atlanta', 'Santa Fe', 53), ('Saint Louis', 'Santa Fe', 53), ('Oklahoma City', 'Salt Lake City', 52)]\n",
      "[('Houston', 'Boston', 77), ('Oklahoma City', 'Kansas City', 58), ('Kansas City', 'Salt Lake City', 56), ('Seattle', 'Santa Fe', 53), ('Portland', 'Atlanta', 53), ('Denver', 'Vancouver', 53), ('New Orleans', 'New York', 53), ('Atlanta', 'Santa Fe', 53), ('Oklahoma City', 'Salt Lake City', 52), ('Sault St. Marie', 'Salt Lake City', 48)]\n"
     ]
    }
   ],
   "source": [
    "roads1 = text_pipeline(roads)\n",
    "dests1 = text_pipeline(dests)\n",
    "for dataset in(roads1,dests1):\n",
    "    all_city_names = merge_unique_from_to(dataset)\n",
    "    most_simelar = show_most_simelar_strings(all_city_names)\n",
    "    print(most_simelar[:10])"
   ]
  },
  {
   "cell_type": "code",
   "execution_count": 10,
   "metadata": {},
   "outputs": [],
   "source": [
    "def merge_2df(df1,df2):\n",
    "    return np.concatenate((df1['from'].values,df1['to'].values,df2['from'].values,df2['to'].values))"
   ]
  },
  {
   "cell_type": "code",
   "execution_count": 11,
   "metadata": {},
   "outputs": [
    {
     "name": "stdout",
     "output_type": "stream",
     "text": [
      "[('Houston', 'Boston', 77), ('Oklahoma City', 'Kansas City', 58), ('Kansas City', 'Salt Lake City', 56), ('Seattle', 'Santa Fe', 53), ('Portland', 'Atlanta', 53), ('Denver', 'Vancouver', 53), ('New Orleans', 'New York', 53), ('Atlanta', 'Santa Fe', 53), ('Saint Louis', 'Santa Fe', 53), ('Oklahoma City', 'Salt Lake City', 52)]\n"
     ]
    }
   ],
   "source": [
    "all_city_names = merge_2df(roads1,dests1)\n",
    "most_simelar = show_most_simelar_strings(all_city_names)\n",
    "print(most_simelar[:10])"
   ]
  },
  {
   "cell_type": "code",
   "execution_count": 12,
   "metadata": {},
   "outputs": [],
   "source": [
    "def fix_spelling_errors(df):\n",
    "    cols = set(df.columns)\n",
    "    for column in ('from','to'):\n",
    "        df[column] = df[column].str.replace('Oklahima','Oklahoma',regex=False)\n",
    "    return df\n",
    "\n",
    "def text_pipeline(df):\n",
    "    df = df.copy()\n",
    "    df = capitlize_all_words_after_space(df)\n",
    "    df = fix_spelling_errors(df)\n",
    "    return df"
   ]
  },
  {
   "cell_type": "code",
   "execution_count": 13,
   "metadata": {},
   "outputs": [
    {
     "name": "stdout",
     "output_type": "stream",
     "text": [
      "[('Houston', 'Boston', 77), ('Oklahoma City', 'Kansas City', 58), ('Kansas City', 'Salt Lake City', 56), ('Seattle', 'Santa Fe', 53), ('Portland', 'Atlanta', 53), ('Denver', 'Vancouver', 53), ('New Orleans', 'New York', 53), ('Atlanta', 'Santa Fe', 53), ('Saint Louis', 'Santa Fe', 53), ('Oklahoma City', 'Salt Lake City', 52)]\n"
     ]
    }
   ],
   "source": [
    "roads2 = text_pipeline(roads)\n",
    "dests2 = text_pipeline(dests)\n",
    "all_city_names = merge_2df(roads2,dests2)\n",
    "most_simelar = show_most_simelar_strings(all_city_names)\n",
    "print(most_simelar[:10])"
   ]
  },
  {
   "cell_type": "code",
   "execution_count": 14,
   "metadata": {},
   "outputs": [
    {
     "data": {
      "text/html": [
       "<div>\n",
       "<style scoped>\n",
       "    .dataframe tbody tr th:only-of-type {\n",
       "        vertical-align: middle;\n",
       "    }\n",
       "\n",
       "    .dataframe tbody tr th {\n",
       "        vertical-align: top;\n",
       "    }\n",
       "\n",
       "    .dataframe thead th {\n",
       "        text-align: right;\n",
       "    }\n",
       "</style>\n",
       "<table border=\"1\" class=\"dataframe\">\n",
       "  <thead>\n",
       "    <tr style=\"text-align: right;\">\n",
       "      <th></th>\n",
       "      <th>Unnamed: 0</th>\n",
       "      <th>from</th>\n",
       "      <th>to</th>\n",
       "      <th>length</th>\n",
       "      <th>color</th>\n",
       "    </tr>\n",
       "  </thead>\n",
       "  <tbody>\n",
       "    <tr>\n",
       "      <th>0</th>\n",
       "      <td>0</td>\n",
       "      <td>Vancouver</td>\n",
       "      <td>Calgary</td>\n",
       "      <td>3</td>\n",
       "      <td>gray</td>\n",
       "    </tr>\n",
       "    <tr>\n",
       "      <th>1</th>\n",
       "      <td>1</td>\n",
       "      <td>Vancouver</td>\n",
       "      <td>Seattle</td>\n",
       "      <td>1</td>\n",
       "      <td>gray</td>\n",
       "    </tr>\n",
       "    <tr>\n",
       "      <th>2</th>\n",
       "      <td>2</td>\n",
       "      <td>Vancouver</td>\n",
       "      <td>Seattle</td>\n",
       "      <td>1</td>\n",
       "      <td>gray</td>\n",
       "    </tr>\n",
       "    <tr>\n",
       "      <th>3</th>\n",
       "      <td>3</td>\n",
       "      <td>Seattle</td>\n",
       "      <td>Portland</td>\n",
       "      <td>1</td>\n",
       "      <td>gray</td>\n",
       "    </tr>\n",
       "    <tr>\n",
       "      <th>4</th>\n",
       "      <td>4</td>\n",
       "      <td>Seattle</td>\n",
       "      <td>Portland</td>\n",
       "      <td>1</td>\n",
       "      <td>gray</td>\n",
       "    </tr>\n",
       "    <tr>\n",
       "      <th>...</th>\n",
       "      <td>...</td>\n",
       "      <td>...</td>\n",
       "      <td>...</td>\n",
       "      <td>...</td>\n",
       "      <td>...</td>\n",
       "    </tr>\n",
       "    <tr>\n",
       "      <th>88</th>\n",
       "      <td>88</td>\n",
       "      <td>Montreal</td>\n",
       "      <td>Boston</td>\n",
       "      <td>2</td>\n",
       "      <td>gray</td>\n",
       "    </tr>\n",
       "    <tr>\n",
       "      <th>89</th>\n",
       "      <td>89</td>\n",
       "      <td>Montreal</td>\n",
       "      <td>Boston</td>\n",
       "      <td>2</td>\n",
       "      <td>gray</td>\n",
       "    </tr>\n",
       "    <tr>\n",
       "      <th>90</th>\n",
       "      <td>90</td>\n",
       "      <td>New York</td>\n",
       "      <td>Boston</td>\n",
       "      <td>2</td>\n",
       "      <td>red</td>\n",
       "    </tr>\n",
       "    <tr>\n",
       "      <th>91</th>\n",
       "      <td>91</td>\n",
       "      <td>New York</td>\n",
       "      <td>Boston</td>\n",
       "      <td>2</td>\n",
       "      <td>yellow</td>\n",
       "    </tr>\n",
       "    <tr>\n",
       "      <th>92</th>\n",
       "      <td>92</td>\n",
       "      <td>Chicago</td>\n",
       "      <td>Toronto</td>\n",
       "      <td>4</td>\n",
       "      <td>white</td>\n",
       "    </tr>\n",
       "  </tbody>\n",
       "</table>\n",
       "<p>93 rows × 5 columns</p>\n",
       "</div>"
      ],
      "text/plain": [
       "    Unnamed: 0       from        to  length   color\n",
       "0            0  Vancouver   Calgary       3    gray\n",
       "1            1  Vancouver   Seattle       1    gray\n",
       "2            2  Vancouver   Seattle       1    gray\n",
       "3            3    Seattle  Portland       1    gray\n",
       "4            4    Seattle  Portland       1    gray\n",
       "..         ...        ...       ...     ...     ...\n",
       "88          88   Montreal    Boston       2    gray\n",
       "89          89   Montreal    Boston       2    gray\n",
       "90          90   New York    Boston       2     red\n",
       "91          91   New York    Boston       2  yellow\n",
       "92          92    Chicago   Toronto       4   white\n",
       "\n",
       "[93 rows x 5 columns]"
      ]
     },
     "execution_count": 14,
     "metadata": {},
     "output_type": "execute_result"
    }
   ],
   "source": [
    "text_pipeline(roads)"
   ]
  },
  {
   "cell_type": "code",
   "execution_count": 15,
   "metadata": {},
   "outputs": [
    {
     "data": {
      "text/html": [
       "<div>\n",
       "<style scoped>\n",
       "    .dataframe tbody tr th:only-of-type {\n",
       "        vertical-align: middle;\n",
       "    }\n",
       "\n",
       "    .dataframe tbody tr th {\n",
       "        vertical-align: top;\n",
       "    }\n",
       "\n",
       "    .dataframe thead th {\n",
       "        text-align: right;\n",
       "    }\n",
       "</style>\n",
       "<table border=\"1\" class=\"dataframe\">\n",
       "  <thead>\n",
       "    <tr style=\"text-align: right;\">\n",
       "      <th></th>\n",
       "      <th>Unnamed: 0</th>\n",
       "      <th>from</th>\n",
       "      <th>to</th>\n",
       "      <th>length</th>\n",
       "      <th>color</th>\n",
       "    </tr>\n",
       "  </thead>\n",
       "  <tbody>\n",
       "    <tr>\n",
       "      <th>0</th>\n",
       "      <td>0</td>\n",
       "      <td>Vancouver</td>\n",
       "      <td>Calgary</td>\n",
       "      <td>3</td>\n",
       "      <td>gray</td>\n",
       "    </tr>\n",
       "    <tr>\n",
       "      <th>1</th>\n",
       "      <td>1</td>\n",
       "      <td>Vancouver</td>\n",
       "      <td>Seattle</td>\n",
       "      <td>1</td>\n",
       "      <td>gray</td>\n",
       "    </tr>\n",
       "    <tr>\n",
       "      <th>2</th>\n",
       "      <td>2</td>\n",
       "      <td>Vancouver</td>\n",
       "      <td>Seattle</td>\n",
       "      <td>1</td>\n",
       "      <td>gray</td>\n",
       "    </tr>\n",
       "    <tr>\n",
       "      <th>3</th>\n",
       "      <td>3</td>\n",
       "      <td>Seattle</td>\n",
       "      <td>Portland</td>\n",
       "      <td>1</td>\n",
       "      <td>gray</td>\n",
       "    </tr>\n",
       "    <tr>\n",
       "      <th>4</th>\n",
       "      <td>4</td>\n",
       "      <td>Seattle</td>\n",
       "      <td>Portland</td>\n",
       "      <td>1</td>\n",
       "      <td>gray</td>\n",
       "    </tr>\n",
       "  </tbody>\n",
       "</table>\n",
       "</div>"
      ],
      "text/plain": [
       "   Unnamed: 0       from        to  length color\n",
       "0           0  Vancouver   Calgary       3  gray\n",
       "1           1  Vancouver   Seattle       1  gray\n",
       "2           2  Vancouver   Seattle       1  gray\n",
       "3           3    Seattle  Portland       1  gray\n",
       "4           4    Seattle  Portland       1  gray"
      ]
     },
     "execution_count": 15,
     "metadata": {},
     "output_type": "execute_result"
    }
   ],
   "source": [
    "roads2.head()"
   ]
  },
  {
   "cell_type": "code",
   "execution_count": 16,
   "metadata": {},
   "outputs": [
    {
     "data": {
      "text/html": [
       "<div>\n",
       "<style scoped>\n",
       "    .dataframe tbody tr th:only-of-type {\n",
       "        vertical-align: middle;\n",
       "    }\n",
       "\n",
       "    .dataframe tbody tr th {\n",
       "        vertical-align: top;\n",
       "    }\n",
       "\n",
       "    .dataframe thead th {\n",
       "        text-align: right;\n",
       "    }\n",
       "</style>\n",
       "<table border=\"1\" class=\"dataframe\">\n",
       "  <thead>\n",
       "    <tr style=\"text-align: right;\">\n",
       "      <th></th>\n",
       "      <th>Unnamed: 0</th>\n",
       "      <th>from</th>\n",
       "      <th>to</th>\n",
       "      <th>points</th>\n",
       "    </tr>\n",
       "  </thead>\n",
       "  <tbody>\n",
       "    <tr>\n",
       "      <th>0</th>\n",
       "      <td>0</td>\n",
       "      <td>Boston</td>\n",
       "      <td>Miami</td>\n",
       "      <td>12</td>\n",
       "    </tr>\n",
       "    <tr>\n",
       "      <th>1</th>\n",
       "      <td>1</td>\n",
       "      <td>Calgary</td>\n",
       "      <td>Phoenix</td>\n",
       "      <td>13</td>\n",
       "    </tr>\n",
       "    <tr>\n",
       "      <th>2</th>\n",
       "      <td>2</td>\n",
       "      <td>Calgary</td>\n",
       "      <td>Salt Lake City</td>\n",
       "      <td>7</td>\n",
       "    </tr>\n",
       "    <tr>\n",
       "      <th>3</th>\n",
       "      <td>3</td>\n",
       "      <td>Chicago</td>\n",
       "      <td>New Orleans</td>\n",
       "      <td>7</td>\n",
       "    </tr>\n",
       "    <tr>\n",
       "      <th>4</th>\n",
       "      <td>4</td>\n",
       "      <td>Chicago</td>\n",
       "      <td>Santa Fe</td>\n",
       "      <td>9</td>\n",
       "    </tr>\n",
       "  </tbody>\n",
       "</table>\n",
       "</div>"
      ],
      "text/plain": [
       "   Unnamed: 0     from              to  points\n",
       "0           0   Boston           Miami      12\n",
       "1           1  Calgary         Phoenix      13\n",
       "2           2  Calgary  Salt Lake City       7\n",
       "3           3  Chicago     New Orleans       7\n",
       "4           4  Chicago        Santa Fe       9"
      ]
     },
     "execution_count": 16,
     "metadata": {},
     "output_type": "execute_result"
    }
   ],
   "source": [
    "dests2.head()"
   ]
  },
  {
   "cell_type": "code",
   "execution_count": 18,
   "metadata": {},
   "outputs": [],
   "source": [
    "roads2 = roads2[['from','to','length','color']]\n",
    "dests2 = dests2[['from','to','points']]"
   ]
  },
  {
   "cell_type": "code",
   "execution_count": 19,
   "metadata": {},
   "outputs": [],
   "source": [
    "roads2.to_csv('Railroads.csv',index=False)\n",
    "dests2.to_csv('destinations.csv',index=False)"
   ]
  },
  {
   "cell_type": "code",
   "execution_count": null,
   "metadata": {},
   "outputs": [],
   "source": []
  }
 ],
 "metadata": {
  "kernelspec": {
   "display_name": "Python 3",
   "language": "python",
   "name": "python3"
  },
  "language_info": {
   "codemirror_mode": {
    "name": "ipython",
    "version": 3
   },
   "file_extension": ".py",
   "mimetype": "text/x-python",
   "name": "python",
   "nbconvert_exporter": "python",
   "pygments_lexer": "ipython3",
   "version": "3.9.2"
  }
 },
 "nbformat": 4,
 "nbformat_minor": 4
}
